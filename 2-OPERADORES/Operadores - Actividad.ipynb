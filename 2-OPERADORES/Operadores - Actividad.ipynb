{
 "cells": [
  {
   "cell_type": "markdown",
   "metadata": {},
   "source": [
    "## Operadores - Actividad"
   ]
  },
  {
   "cell_type": "markdown",
   "metadata": {},
   "source": [
    "1) Pedir al usuario dos números y mostrar por pantalla la suma de ellos."
   ]
  },
  {
   "cell_type": "code",
   "execution_count": 1,
   "metadata": {},
   "outputs": [
    {
     "name": "stdout",
     "output_type": "stream",
     "text": [
      "La suma es 30\n"
     ]
    }
   ],
   "source": [
    "num1=int(input('Ingresar primer numero'))\n",
    "num2=int(input('Ingresar segundo numero'))\n",
    "print(f'La suma es {num1 + num2}')"
   ]
  },
  {
   "cell_type": "markdown",
   "metadata": {},
   "source": [
    "2) Calcular el perímetro y área de un rectángulo dada su base y su altura (el usuario debe introducir por teclado los dos valores)."
   ]
  },
  {
   "cell_type": "code",
   "execution_count": 2,
   "metadata": {},
   "outputs": [
    {
     "name": "stdout",
     "output_type": "stream",
     "text": [
      "El area del rectangulo es:20\n"
     ]
    }
   ],
   "source": [
    "base=int(input('Ingresar la base del rectangulo'))\n",
    "area=int(input('Ingresar la altura del rectangulo'))\n",
    "print(f'El area del rectangulo es:{base*area}')"
   ]
  },
  {
   "cell_type": "markdown",
   "metadata": {},
   "source": [
    "3) Calcular el resultado de elevar un número entero a otro número entero (por ejemplo, 5 elevado a 3 = 5^3 = 5*5*5)."
   ]
  },
  {
   "cell_type": "code",
   "execution_count": 3,
   "metadata": {},
   "outputs": [
    {
     "name": "stdout",
     "output_type": "stream",
     "text": [
      "La potencia de 5 elevado a 3 es:125\n"
     ]
    }
   ],
   "source": [
    "num=int(input('Ingresar numero'))\n",
    "pot=int(input('Ingresar potencia'))\n",
    "print(f'La potencia de {num} elevado a {pot} es:{num**pot}')"
   ]
  },
  {
   "cell_type": "markdown",
   "metadata": {},
   "source": [
    "4) Escribe un programa que convierta grados Celsius a grados Fahrenheit utilizando la fórmula: **F = (C * 9/5) + 32**"
   ]
  },
  {
   "cell_type": "code",
   "execution_count": 4,
   "metadata": {},
   "outputs": [
    {
     "name": "stdout",
     "output_type": "stream",
     "text": [
      "0 grados celsius es igual a 32.0 grados fahrenheit\n"
     ]
    }
   ],
   "source": [
    "grados_c=int(input('Ingresar los grados celcius'))\n",
    "grados_f=(grados_c*(9/5)) + 32\n",
    "print(f'{grados_c} grados celsius es igual a {grados_f} grados fahrenheit')"
   ]
  },
  {
   "cell_type": "markdown",
   "metadata": {},
   "source": [
    "5) Pedir al usuario su edad y mostrar por pantalla si es mayor de edad o no. (Mayor de edad >= 18)"
   ]
  },
  {
   "cell_type": "code",
   "execution_count": 5,
   "metadata": {},
   "outputs": [
    {
     "name": "stdout",
     "output_type": "stream",
     "text": [
      "Es mayor de edad\n"
     ]
    }
   ],
   "source": [
    "edad=int(input('Ingresar edad'))\n",
    "if edad>=18:\n",
    "    print('Es mayor de edad')\n",
    "else:\n",
    "    print('Es menor de edad')"
   ]
  },
  {
   "cell_type": "markdown",
   "metadata": {},
   "source": [
    "6) Comprobar si el numero ingresado por el usuario es par o impar."
   ]
  },
  {
   "cell_type": "code",
   "execution_count": 7,
   "metadata": {},
   "outputs": [
    {
     "name": "stdout",
     "output_type": "stream",
     "text": [
      "El numero es inpar\n"
     ]
    }
   ],
   "source": [
    "numero=int(input('Ingresar numero'))\n",
    "if numero%2==0:\n",
    "    print('El numero es par')\n",
    "else:\n",
    "    print('El numero es inpar')"
   ]
  },
  {
   "cell_type": "markdown",
   "metadata": {},
   "source": [
    "7) Pedir al usuario que ingrese su dirección email y luego mostrar un mensaje indicando si la dirección es válida o no. Una dirección se considerará válida si contiene el símbolo \"@\"."
   ]
  },
  {
   "cell_type": "code",
   "execution_count": 9,
   "metadata": {},
   "outputs": [
    {
     "name": "stdout",
     "output_type": "stream",
     "text": [
      "El correo es valido\n"
     ]
    }
   ],
   "source": [
    "lista=input('Ingresar correo')\n",
    "if '@' in lista:\n",
    "    print('El correo es valido')"
   ]
  },
  {
   "cell_type": "markdown",
   "metadata": {},
   "source": [
    "8) Dado un número de dos cifras, diseñe un algoritmo que permita obtener el número invertido. Ejemplo, si se introduce 23 que muestre 32. (Recordar que las cadenas pueden tratarse como listas de caracteres)."
   ]
  },
  {
   "cell_type": "code",
   "execution_count": 8,
   "metadata": {},
   "outputs": [
    {
     "name": "stdout",
     "output_type": "stream",
     "text": [
      "el numero invertido es 85\n"
     ]
    }
   ],
   "source": [
    "num=(input('Ingresar numero'))\n",
    "\n",
    "print(f'el numero invertido es {num[1]}{num[0]}')"
   ]
  },
  {
   "cell_type": "markdown",
   "metadata": {},
   "source": [
    "9) Crea un programa que pida al usuario dos números y muestre True si ambos son mayores que 10."
   ]
  },
  {
   "cell_type": "code",
   "execution_count": 10,
   "metadata": {},
   "outputs": [
    {
     "name": "stdout",
     "output_type": "stream",
     "text": [
      "Algun numero es menor de 10\n"
     ]
    }
   ],
   "source": [
    "num1=int(input('Ingresar primer numero'))\n",
    "num2=int(input('Ingresar segundo numero'))\n",
    "\n",
    "if num1>10 and num2>10:\n",
    "    print('True')\n",
    "else:\n",
    "    print('Algun numero es menor o igual a 10')"
   ]
  },
  {
   "cell_type": "markdown",
   "metadata": {},
   "source": [
    "10) Escribe un programa que verifique si un número ingresado por el usuario es divisible por 3 y por 5."
   ]
  },
  {
   "cell_type": "code",
   "execution_count": 13,
   "metadata": {},
   "outputs": [
    {
     "name": "stdout",
     "output_type": "stream",
     "text": [
      "El numero 15 es divisible por 3 y 5\n"
     ]
    }
   ],
   "source": [
    "nume=int(input('Ingresar un numero'))\n",
    "\n",
    "if nume%3==0 and nume%5==0:\n",
    "    print(f'El numero {nume} es divisible por 3 y 5')\n",
    "else:\n",
    "    print('No es divisible')\n"
   ]
  },
  {
   "cell_type": "markdown",
   "metadata": {},
   "source": [
    "11) Utilizando la información del punto 5, preguntar al usuario si posee carnet de conducir, luego verificar si puede conducir un automóvil."
   ]
  },
  {
   "cell_type": "code",
   "execution_count": 16,
   "metadata": {},
   "outputs": [
    {
     "name": "stdout",
     "output_type": "stream",
     "text": [
      "puede conducir\n"
     ]
    }
   ],
   "source": [
    "carnet=input('¡Posee carnet de conducir?')\n",
    "edad=int(input('Ingresar edad'))\n",
    "if carnet=='si' and edad>=18:\n",
    "    print('puede conducir')\n",
    "else:\n",
    "    print('No cumple una condicion')"
   ]
  },
  {
   "cell_type": "markdown",
   "metadata": {},
   "source": [
    "12) Pide al usuario un número y verifica si es positivo y no es mayor que 100."
   ]
  },
  {
   "cell_type": "code",
   "execution_count": 18,
   "metadata": {},
   "outputs": [
    {
     "name": "stdout",
     "output_type": "stream",
     "text": [
      "Cumple ambas condiciones\n"
     ]
    }
   ],
   "source": [
    "numero_p=int(input('Ingresar numero'))\n",
    "if numero_p>0 and numero_p<100:\n",
    "    print('Cumple ambas condiciones')\n",
    "else:\n",
    "    print('No cumple')"
   ]
  },
  {
   "cell_type": "markdown",
   "metadata": {},
   "source": [
    "13) Crear un programa que valide si un número ingresado por el usuario es par y mayor que 20."
   ]
  },
  {
   "cell_type": "code",
   "execution_count": 20,
   "metadata": {},
   "outputs": [
    {
     "name": "stdout",
     "output_type": "stream",
     "text": [
      "Cumple ambas condiciones\n"
     ]
    }
   ],
   "source": [
    "numero_p=int(input('Ingresar numero'))\n",
    "if numero_p%2==0 and numero_p>20:\n",
    "    print('Cumple ambas condiciones')\n",
    "else:\n",
    "    print('No cumple')"
   ]
  },
  {
   "cell_type": "markdown",
   "metadata": {},
   "source": [
    "14) Dada la variable **numero = 5**, realizar la operación necesaria para que número sea igual a 8. Luego imprimir en pantalla el nuevo valor de número y realizar una nueva operación para que el valor de número sea igual a 4 y mostrar en pantalla el nuevo valor."
   ]
  },
  {
   "cell_type": "code",
   "execution_count": 3,
   "metadata": {},
   "outputs": [
    {
     "name": "stdout",
     "output_type": "stream",
     "text": [
      "8\n",
      "4\n"
     ]
    }
   ],
   "source": [
    "numero=5\n",
    "numero+=3\n",
    "print(numero)\n",
    "numero-=4\n",
    "print(numero)"
   ]
  },
  {
   "cell_type": "markdown",
   "metadata": {},
   "source": [
    "15) Dadas las variables altura = \"10\" y base = 5, calcular el área de un triángulo y mostrar el resultado en pantalla. ¿Por qué el resultado es un error? ¿Cómo lo corregirías?"
   ]
  },
  {
   "cell_type": "code",
   "execution_count": 4,
   "metadata": {},
   "outputs": [
    {
     "ename": "TypeError",
     "evalue": "unsupported operand type(s) for /: 'str' and 'int'",
     "output_type": "error",
     "traceback": [
      "\u001b[1;31m---------------------------------------------------------------------------\u001b[0m",
      "\u001b[1;31mTypeError\u001b[0m                                 Traceback (most recent call last)",
      "\u001b[1;32mc:\\Users\\Jordy\\Documents\\PYTHON-CERO\\python-desde-cero\\2-Operadores\\Operadores - Actividad.ipynb Cell 31\u001b[0m line \u001b[0;36m3\n\u001b[0;32m      <a href='vscode-notebook-cell:/c%3A/Users/Jordy/Documents/PYTHON-CERO/python-desde-cero/2-Operadores/Operadores%20-%20Actividad.ipynb#X42sZmlsZQ%3D%3D?line=0'>1</a>\u001b[0m altura\u001b[39m=\u001b[39m\u001b[39m'\u001b[39m\u001b[39m10\u001b[39m\u001b[39m'\u001b[39m\n\u001b[0;32m      <a href='vscode-notebook-cell:/c%3A/Users/Jordy/Documents/PYTHON-CERO/python-desde-cero/2-Operadores/Operadores%20-%20Actividad.ipynb#X42sZmlsZQ%3D%3D?line=1'>2</a>\u001b[0m base \u001b[39m=\u001b[39m \u001b[39m5\u001b[39m\n\u001b[1;32m----> <a href='vscode-notebook-cell:/c%3A/Users/Jordy/Documents/PYTHON-CERO/python-desde-cero/2-Operadores/Operadores%20-%20Actividad.ipynb#X42sZmlsZQ%3D%3D?line=2'>3</a>\u001b[0m area\u001b[39m=\u001b[39m(altura\u001b[39m*\u001b[39;49mbase)\u001b[39m/\u001b[39;49m\u001b[39m2\u001b[39;49m\n\u001b[0;32m      <a href='vscode-notebook-cell:/c%3A/Users/Jordy/Documents/PYTHON-CERO/python-desde-cero/2-Operadores/Operadores%20-%20Actividad.ipynb#X42sZmlsZQ%3D%3D?line=3'>4</a>\u001b[0m \u001b[39mprint\u001b[39m(area)\n",
      "\u001b[1;31mTypeError\u001b[0m: unsupported operand type(s) for /: 'str' and 'int'"
     ]
    }
   ],
   "source": [
    "altura='10'\n",
    "base = 5\n",
    "area=(altura*base)/2\n",
    "print(area)"
   ]
  },
  {
   "cell_type": "markdown",
   "metadata": {},
   "source": [
    "Dicha operacion no se puede realizar ya que la variable altura es de tipo String. La salocion a este problema seria castear la variable altura a tipo int(entero)"
   ]
  },
  {
   "cell_type": "code",
   "execution_count": 6,
   "metadata": {},
   "outputs": [
    {
     "name": "stdout",
     "output_type": "stream",
     "text": [
      "25.0\n"
     ]
    }
   ],
   "source": [
    "altura='10'\n",
    "base = 5\n",
    "area=(int(altura)*base)/2\n",
    "print(area)"
   ]
  },
  {
   "cell_type": "markdown",
   "metadata": {},
   "source": [
    "16) Crea un programa que calcule el promedio de tres calificaciones ingresadas por el usuario, y comprobar si el alumno aprobó o no (aprueba con nota mayor a 6)."
   ]
  },
  {
   "cell_type": "code",
   "execution_count": 9,
   "metadata": {},
   "outputs": [
    {
     "name": "stdout",
     "output_type": "stream",
     "text": [
      "NO aprobó\n"
     ]
    }
   ],
   "source": [
    "nota_1=int(input('Ingresar primer calificacion'))\n",
    "nota_2=int(input('Ingresar segunda calificacion'))\n",
    "nota_3=int(input('Ingresar tercer calificacion'))\n",
    "\n",
    "promedio=(nota_1 + nota_2 + nota_3)/3\n",
    "if promedio>6:\n",
    "    print(f'El alumno aprobo con una nota igual a {promedio}')\n",
    "else:\n",
    "    print('NO aprobó')\n"
   ]
  },
  {
   "cell_type": "markdown",
   "metadata": {},
   "source": [
    "17) Pide al usuario su edad y calcula cuántos días, horas y minutos ha vivido aproximadamente (asumiendo 365 días por año)."
   ]
  },
  {
   "cell_type": "code",
   "execution_count": 13,
   "metadata": {},
   "outputs": [
    {
     "name": "stdout",
     "output_type": "stream",
     "text": [
      "De acuerdo a tu edda proporcionada la cantidad de dias que viviste son:11315 días. La cantida de horas es:271560 horas. Y la cantidad de minutos es: 16293600 minutos\n"
     ]
    }
   ],
   "source": [
    "edad=int(input('ingresar edad'))\n",
    "print(f'De acuerdo a tu edda proporcionada la cantidad de dias que viviste son:{edad*365} días. La cantida de horas es:{edad*24*365} horas. Y la cantidad de minutos es: {edad*60*24*365} minutos')"
   ]
  },
  {
   "cell_type": "markdown",
   "metadata": {},
   "source": [
    "18) Crea un programa que verifique si un número ingresado por el usuario es múltiplo de 4 y de 6 al mismo tiempo."
   ]
  },
  {
   "cell_type": "code",
   "execution_count": 19,
   "metadata": {},
   "outputs": [
    {
     "name": "stdout",
     "output_type": "stream",
     "text": [
      "No es multiplo\n"
     ]
    }
   ],
   "source": [
    "num=int(input('Ingresar numero'))\n",
    "if num%4==0 and num%6==0:\n",
    "    print(f'El numero {num} es multiplo de 4 y 6')\n",
    "else:\n",
    "    print('No es multiplo')\n"
   ]
  },
  {
   "cell_type": "markdown",
   "metadata": {},
   "source": [
    "19) "
   ]
  }
 ],
 "metadata": {
  "kernelspec": {
   "display_name": "Python 3",
   "language": "python",
   "name": "python3"
  },
  "language_info": {
   "codemirror_mode": {
    "name": "ipython",
    "version": 3
   },
   "file_extension": ".py",
   "mimetype": "text/x-python",
   "name": "python",
   "nbconvert_exporter": "python",
   "pygments_lexer": "ipython3",
   "version": "3.11.5"
  }
 },
 "nbformat": 4,
 "nbformat_minor": 2
}
